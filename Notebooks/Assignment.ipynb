{
 "cells": [
  {
   "cell_type": "markdown",
   "metadata": {},
   "source": [
    "## Exercise (Notebook 2)\n",
    "\n",
    "Calculate the % GC and % AT content in the trna sequence\n",
    "\n"
   ]
  },
  {
   "cell_type": "code",
   "execution_count": 3,
   "metadata": {},
   "outputs": [],
   "source": [
    "#trna='AAGGGCTTAGCTTAATTAAAGTGGCTGATTTGCGTTCAGTTGATGCAGAGTGGGGTTTTGCAGTCCTTA'\n",
    "\n",
    "def trna(dna):\n",
    "    '''\n",
    "    The function takes the input of dna sequence and calculates the %GC and %AT.\n",
    "    '''\n",
    "    \n",
    "    A_count=dna.count('A')\n",
    "    C_count=dna.count('C')\n",
    "    G_count=dna.count('G')\n",
    "    T_count=dna.count('T')\n",
    "    \n",
    "\n",
    "    print (\"Percentage GC: \", (int((G_count + C_count)/len(dna)* 100)))\n",
    "    print (\"Percentage AT: \", (int((A_count + T_count)/len(dna) * 100)))"
   ]
  },
  {
   "cell_type": "code",
   "execution_count": 4,
   "metadata": {},
   "outputs": [
    {
     "name": "stdout",
     "output_type": "stream",
     "text": [
      "Percentage GC:  43\n",
      "Percentage AT:  56\n"
     ]
    }
   ],
   "source": [
    "trna(\"AAGGGCTTAGCTTAATTAAAGTGGCTGATTTGCGTTCAGTTGATGCAGAGTGGGGTTTTGCAGTCCTTA\")"
   ]
  },
  {
   "cell_type": "markdown",
   "metadata": {},
   "source": [
    "### Exercise:(Notebook 2)\n",
    "\n",
    "1. Given the following amino acid sequence (MNKMDLVADVAEKTDLSKAKATEVIDAVFA), find the first, last and the 5th amino acids i## Exercise (Notebook 2)n the sequence. \n",
    "2. The above amino acid is a bacterial restriction enzyme that recognizes \"TCCGGA\". Find the first restriction site in the following sequence: AAAAATCCCGAGGCGGCTATATAGGGCTCCGGAGGCGTAATATAAAA"
   ]
  },
  {
   "cell_type": "code",
   "execution_count": 12,
   "metadata": {},
   "outputs": [
    {
     "name": "stdout",
     "output_type": "stream",
     "text": [
      "M D A\n"
     ]
    }
   ],
   "source": [
    "def aa_index(aa):\n",
    "    '''\n",
    "    The function takes the input of AA sequence and return the AA at index 0, 4 and -1.\n",
    "    '''\n",
    "    \n",
    "    print(aa[0], aa[4], aa[-1])\n",
    "\n",
    "aa_index(\"MNKMDLVADVAEKTDLSKAKATEVIDAVFA\")"
   ]
  },
  {
   "cell_type": "code",
   "execution_count": 28,
   "metadata": {},
   "outputs": [
    {
     "name": "stdout",
     "output_type": "stream",
     "text": [
      "27\n"
     ]
    }
   ],
   "source": [
    "def resite(dna):\n",
    "    '''\n",
    "    The function takes the input of dna sequence and prints the index of the first restriction site.\n",
    "    '''\n",
    "    \n",
    "    print(dna.find(\"TCCGGA\"))\n",
    "    \n",
    "resite(\"AAAAATCCCGAGGCGGCTATATAGGGCTCCGGAGGCGTAATATAAAA\")"
   ]
  },
  {
   "cell_type": "markdown",
   "metadata": {},
   "source": [
    "## Exercise (Notebook 4)\n",
    "\n",
    "- Using strings, lists, tuples and dictionaries concepts, find the reverse complement of AAAAATCCCGAGGCGGCTATATAGGGCTCCGGAGGCGTAATATAAAA\n"
   ]
  },
  {
   "cell_type": "code",
   "execution_count": 32,
   "metadata": {},
   "outputs": [
    {
     "data": {
      "text/plain": [
       "'CGAT'"
      ]
     },
     "execution_count": 32,
     "metadata": {},
     "output_type": "execute_result"
    }
   ],
   "source": [
    "def compliment(Nucleotide):\n",
    "    '''\n",
    "    The function takes the input of nucleotide sequence and returns the reverse compliment of the sequence\n",
    "    '''\n",
    "    \n",
    "    comp = []\n",
    "    for i in Nucleotide:\n",
    "        if i == \"T\":\n",
    "            comp.append(\"A\")\n",
    "        if i == \"A\":\n",
    "            comp.append(\"T\")\n",
    "        if i == \"G\":\n",
    "            comp.append(\"C\")\n",
    "        if i == \"C\":\n",
    "            comp.append(\"G\")\n",
    "\n",
    "    return ''.join(comp)[::-1]\n",
    "    \n",
    "compliment(\"ATCG\")"
   ]
  },
  {
   "cell_type": "markdown",
   "metadata": {},
   "source": [
    "### Exercise (Notebook 5)\n",
    "\n",
    "1. Create a while loop that starts with x = 0 and increments x until x is equal to 5. Each iteration should print to the console.\n",
    "2. Repeat the previous problem, but the loop will skip printing x = 5 to the console but will print values of x from 6 to 10.\n",
    "3. Create a for loop that prints values from 4 to 10 to the console."
   ]
  },
  {
   "cell_type": "code",
   "execution_count": 98,
   "metadata": {},
   "outputs": [
    {
     "name": "stdout",
     "output_type": "stream",
     "text": [
      "x = 1\n",
      "x = 2\n",
      "x = 3\n",
      "x = 4\n",
      "x = 5\n"
     ]
    }
   ],
   "source": [
    "x = 0\n",
    "\n",
    "while x <= 4:\n",
    "    x=x+1\n",
    "    print(\"x =\", x)\n",
    "    "
   ]
  },
  {
   "cell_type": "code",
   "execution_count": 99,
   "metadata": {},
   "outputs": [
    {
     "name": "stdout",
     "output_type": "stream",
     "text": [
      "x = 1\n",
      "x = 2\n",
      "x = 3\n",
      "x = 4\n",
      "x = 6\n",
      "x = 7\n",
      "x = 8\n",
      "x = 9\n",
      "x = 10\n"
     ]
    }
   ],
   "source": [
    "x = 0\n",
    "\n",
    "while x < 10:\n",
    "    x=x+1\n",
    "\n",
    "    if x <= 10:\n",
    "        if x == 5:\n",
    "            continue\n",
    "\n",
    "        print(\"x =\", x)\n",
    "            "
   ]
  },
  {
   "cell_type": "code",
   "execution_count": 101,
   "metadata": {},
   "outputs": [
    {
     "name": "stdout",
     "output_type": "stream",
     "text": [
      "4\n",
      "5\n",
      "6\n",
      "7\n",
      "8\n",
      "9\n",
      "10\n"
     ]
    }
   ],
   "source": [
    "def printval(number):\n",
    "    '''\n",
    "    The function takes a an upper limit number and prints every number upto the upper limit number for a defined range.\n",
    "    '''\n",
    "\n",
    "    for i in range(4,number+1):\n",
    "        print(i)\n",
    "        \n",
    "printval(10)"
   ]
  },
  {
   "cell_type": "markdown",
   "metadata": {},
   "source": [
    "### (Notebook 5)\n",
    "\n",
    "Expand the script in the previous cell to also manage ATM deposits"
   ]
  },
  {
   "cell_type": "code",
   "execution_count": null,
   "metadata": {},
   "outputs": [],
   "source": [
    "def query():\n",
    "    \n",
    "    acountbal = 50000\n",
    "    choice = input(\"Please enter 'b' to check balance or 'd' to deposit or 'w' to withdraw: \")\n",
    "    while choice != 'q':\n",
    "        if choice.lower() in ('b', 'w', 'd'):\n",
    "            if choice.lower() == 'b':\n",
    "                print(\"Your balance is: %d\" % acountbal)\n",
    "                print(\"Anything else?\")\n",
    "                choice = input(\"Enter b for balance, w to withdraw, or d to deposit or q to quit: \")\n",
    "                print(choice.lower())\n",
    "            elif choice.lower() == 'd':\n",
    "                deposit = float(input(\"Enter amount to be deposited:\"))\n",
    "                print(\"Amount Deposited:\", deposit)\n",
    "                acountbal = acountbal + deposit\n",
    "                print(\"your new current balance is %.2f:\" %(acountbal))\n",
    "                print(\"Anything else?\")\n",
    "                choice = input(\"Enter b for balance, w to withdraw, or d to deposit or q to quit: \")\n",
    "            else:\n",
    "                withdraw = float(input(\"Enter amount to withdraw: \"))\n",
    "                if withdraw <= acountbal:\n",
    "                    print(\"here is your: %.2f\" % withdraw)\n",
    "                    acountbal = acountbal - withdraw\n",
    "                    print(\"Anything else?\")\n",
    "                    choice = input(\"Enter b for balance, w to withdraw or q to quit: \")\n",
    "                    #choice = 'q'\n",
    "                else:\n",
    "                    print(\"You have insufficient funds: %.2f\" % acountbal)\n",
    "\n",
    "        else:\n",
    "            print(\"Wrong choice!\")\n",
    "            choice = input(\"Please enter 'b' to check balance or 'w' to withdraw: \")\n",
    "            "
   ]
  },
  {
   "cell_type": "code",
   "execution_count": null,
   "metadata": {},
   "outputs": [],
   "source": [
    "query()"
   ]
  },
  {
   "cell_type": "markdown",
   "metadata": {},
   "source": [
    "### Exercise (Notebook 6)\n",
    "Let's return to our earlier exercise: calculating %GC content. In this exercise:\n",
    "- Write a function `percentageGC` that calculates the GC content of a DNA sequence\n",
    "- The function should return the %GC content\n",
    "- The Function should return a message if the provided sequence is not DNA (This should be checked by a different function, called by your function)\n"
   ]
  },
  {
   "cell_type": "code",
   "execution_count": 6,
   "metadata": {},
   "outputs": [
    {
     "name": "stdout",
     "output_type": "stream",
     "text": [
      "Percentage GC:  50\n"
     ]
    }
   ],
   "source": [
    "def percentageGC(dna):\n",
    "    '''\n",
    "    Function takes an input of dna sequence and calculates the %GC content.\n",
    "    '''\n",
    "    \n",
    "    x = (dna.count(\"G\"))\n",
    "    y = (dna.count(\"C\"))\n",
    "    z = (len(dna))\n",
    "\n",
    "    print(\"Percentage GC: \", (int((x+y)/z*100)))\n",
    "    \n",
    "percentageGC(\"ATCGCAGA\")\n"
   ]
  },
  {
   "cell_type": "code",
   "execution_count": 13,
   "metadata": {},
   "outputs": [],
   "source": [
    "def Sequence(dna):\n",
    "    '''\n",
    "    Function takes an input of dna sequence and tests for non DNA bases.\n",
    "    '''\n",
    "    tag = True\n",
    "    dnabases = 'ACTG'\n",
    "    for i in dna:\n",
    "        if i in dnabases:\n",
    "            pass\n",
    "       \n",
    "        else:\n",
    "            tag = False\n",
    "            return(\"This is NOT a DNA\")\n"
   ]
  },
  {
   "cell_type": "code",
   "execution_count": 14,
   "metadata": {},
   "outputs": [
    {
     "data": {
      "text/plain": [
       "'This is NOT a DNA'"
      ]
     },
     "execution_count": 14,
     "metadata": {},
     "output_type": "execute_result"
    }
   ],
   "source": [
    "Sequence('XATXCG')"
   ]
  },
  {
   "cell_type": "code",
   "execution_count": 11,
   "metadata": {},
   "outputs": [],
   "source": [
    "Sequence('ATAGCGGCAT')"
   ]
  },
  {
   "cell_type": "markdown",
   "metadata": {},
   "source": [
    "### Exercise 1 (Notebook 7)\n",
    "\n",
    "Write a function that reads the file (humchr.txt) and writes to another file (gene_names.txt) a clean list of gene names."
   ]
  },
  {
   "cell_type": "code",
   "execution_count": 15,
   "metadata": {},
   "outputs": [],
   "source": [
    "def write2file(gene_list, out_file):\n",
    "    \"\"\"\n",
    "    Takes a gene list and writes the output to file\n",
    "    \"\"\"\n",
    "    with open(out_file, 'w') as outfile:\n",
    "        outfile.write('\\n'.join(gene_list))\n",
    "\n",
    "def remove_empty(gene_list):\n",
    "    \"\"\"\n",
    "    Given a gene list, removes items\n",
    "    that start with dash (empty)\n",
    "    \"\"\"\n",
    "    tag = True\n",
    "    while tag:\n",
    "        try:\n",
    "            gene_list.remove('-')\n",
    "        except ValueError:\n",
    "            tag = False\n",
    "    return gene_list\n",
    "\n",
    "def clean_genes(input_file, out_file):\n",
    "    \"\"\"\n",
    "    Given a chromosome annotation file, extract the\n",
    "    genes and write them to another file\n",
    "    \"\"\"\n",
    "    gene_list = []\n",
    "    tag = False\n",
    "    with open(input_file, 'r') as humchrx:\n",
    "        for line in humchrx:\n",
    "            if line.startswith('Gene'):\n",
    "                tag=True\n",
    "            if line == '\\n':\n",
    "                tag = False\n",
    "            if tag:\n",
    "                gene_list.append(line.split()[0])\n",
    "                \n",
    "    #clean the gene list\n",
    "    gene_list.pop(2)\n",
    "    gene_list[0] = gene_list[0]+\"_\"+gene_list[1]\n",
    "    gene_list.pop(1)\n",
    "   \n",
    "    gene_list = remove_empty(gene_list)\n",
    "   \n",
    "    ## Writing to file\n",
    "    write2file(gene_list, out_file)\n",
    "clean_genes('../Data/humchrx.txt', 'testing.txt')"
   ]
  },
  {
   "cell_type": "code",
   "execution_count": null,
   "metadata": {},
   "outputs": [],
   "source": []
  },
  {
   "cell_type": "markdown",
   "metadata": {},
   "source": [
    "### Exercise 2 (Notebook 7)\n",
    "\n",
    "1. Convert the function you wrote in exercise 1 into a python module. Then, import the module and use the function to read `humchrx.txt` file and create a gene list file.\n",
    "2. Create a stand-alone script that does all the above."
   ]
  },
  {
   "cell_type": "code",
   "execution_count": 29,
   "metadata": {},
   "outputs": [],
   "source": [
    "import cleangenelist"
   ]
  },
  {
   "cell_type": "code",
   "execution_count": 30,
   "metadata": {},
   "outputs": [],
   "source": [
    "cleangenelist.clean_genes('../Data/humchrx.txt', 'cleangene.txt')"
   ]
  },
  {
   "cell_type": "code",
   "execution_count": null,
   "metadata": {},
   "outputs": [],
   "source": [
    "Stand- alone script: myscript.py"
   ]
  },
  {
   "cell_type": "markdown",
   "metadata": {},
   "source": [
    "### Exercise 3 (Notebook 7)\n",
    "\n",
    "- Using the same concept, convert your script in exercise 1 to take command line arguments (input and output files)\n",
    "- Using a DNA sequence read from file, answer the following questions:\n",
    "    1. Show that the DNA string contains only four letters.\n",
    "    2. In the DNA string there are regions that have a repeating letter. What is the letter and length of the longest repeating region?\n",
    "    3. How many ’ATG’s are in the DNA string?"
   ]
  },
  {
   "cell_type": "code",
   "execution_count": 46,
   "metadata": {},
   "outputs": [
    {
     "data": {
      "text/plain": [
       "{'A', 'C', 'G', 'T'}"
      ]
     },
     "execution_count": 46,
     "metadata": {},
     "output_type": "execute_result"
    }
   ],
   "source": [
    "def sequence(dna):\n",
    "    \n",
    "    '''\n",
    "    Function takes the input dna sequence and return the nucleotide bases in the dna\n",
    "    '''\n",
    "\n",
    "    return set(dna)\n",
    "\n",
    "sequence('ATGCTCGA')\n"
   ]
  },
  {
   "cell_type": "code",
   "execution_count": null,
   "metadata": {},
   "outputs": [],
   "source": [
    "def longest_repeating_nucleotide():\n",
    "    \n",
    "    dna_seq = input('please enter the DNA sequence')\n",
    "    A_list = [] # initialize an empty list to store repeating nucleotides\n",
    "    tag = False\n",
    "    As = [] # initialize an empty list to store repeating nucleotides that will be appended to initialized A_list above\n",
    "    for nuc in dna_seq:\n",
    "        for dna in dna_seq:\n",
    "            if dna == nuc:\n",
    "                tag = True\n",
    "                As.append(dna)\n",
    "            else:\n",
    "                if len(As) > 1:\n",
    "                    A_list.append(As)\n",
    "                As = []\n",
    "                tag = False\n",
    "    len_list = [len(x) for x in A_list]\n",
    "    long_index = len_list.index(max(len_list))\n",
    "    print('*'*100)\n",
    "    print('%s is the longest repeating letter, repeat %d times' %(A_list[long_index][0], len(A_list[long_index])))\n",
    "   \n",
    "longest_repeating_nucleotide()"
   ]
  },
  {
   "cell_type": "code",
   "execution_count": 45,
   "metadata": {},
   "outputs": [
    {
     "data": {
      "text/plain": [
       "3"
      ]
     },
     "execution_count": 45,
     "metadata": {},
     "output_type": "execute_result"
    }
   ],
   "source": [
    "def findcodon(dna):\n",
    "    ''' Function takes the input dna sequence and finds the number of occurences of a codon'''\n",
    "\n",
    "    seq = \"ATG\"\n",
    "\n",
    "    for seq in dna:\n",
    "        return dna.count(seq)\n",
    "\n",
    "findcodon(\"ATGATGATGCT\")\n"
   ]
  },
  {
   "cell_type": "code",
   "execution_count": null,
   "metadata": {},
   "outputs": [],
   "source": []
  }
 ],
 "metadata": {
  "kernelspec": {
   "display_name": "Python 3",
   "language": "python",
   "name": "python3"
  },
  "language_info": {
   "codemirror_mode": {
    "name": "ipython",
    "version": 3
   },
   "file_extension": ".py",
   "mimetype": "text/x-python",
   "name": "python",
   "nbconvert_exporter": "python",
   "pygments_lexer": "ipython3",
   "version": "3.8.5"
  }
 },
 "nbformat": 4,
 "nbformat_minor": 4
}
